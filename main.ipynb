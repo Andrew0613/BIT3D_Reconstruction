{
 "cells": [
  {
   "cell_type": "code",
   "execution_count": 1,
   "source": [
    "import numpy as np\n",
    "import cv2 \n",
    "import os\n",
    "from scipy import sparse\n",
    "from sklearn.preprocessing import normalize\n",
    "import scipy\n",
    "import tqdm\n",
    "from PS import *\n",
    "from dataset import Dataset"
   ],
   "outputs": [],
   "metadata": {}
  },
  {
   "cell_type": "code",
   "execution_count": 1,
   "source": [
    "root=\"./DiLiGenT/pmsData/\"\n",
    "file_list=os.listdir(\"./DiLiGenT/pmsData/\")\n",
    "for i in range(len(file_list)):\n",
    "    if file_list[i][-3:]!= \"PNG\":\n",
    "        continue\n",
    "    else:\n",
    "        print(\"Start\",file_list[i])\n",
    "    if not os.path.exists(\"./\"+file_list[i]):\n",
    "        os.mkdir(\"./\"+file_list[i])\n",
    "    img_dir=os.path.join(root,file_list[i])\n",
    "    save_dir=\"./\"+file_list[i]+\".obj\"\n",
    "    dataset=Dataset(root=img_dir)\n",
    "    print(\"-----normal images-----\")\n",
    "    dataset.normal_imags()\n",
    "    print(\"-----compute normal-----\")\n",
    "    N=get_normal(dataset.img,dataset.directions,dataset.background_ind)\n",
    "    # N=normal\n",
    "    print(\"-----comput depth-----\")\n",
    "    depth=compute_depth(N,dataset.mask)\n",
    "    save_depth(depth,save_dir)\n",
    "    N[:,:,0], N[:,:,2] = N[:,:,2], N[:,:,0].copy()\n",
    "    N = (N + 1.0) / 2.0\n",
    "    cv2.imwrite(\"./\"+file_list[i]+\"_normal.png\",N*255)\n",
    "    cv2.imwrite(\"./\"+file_list[i]+\"_depth.png\",depth*255)"
   ],
   "outputs": [
    {
     "output_type": "stream",
     "name": "stdout",
     "text": [
      "Start bearPNG\n"
     ]
    },
    {
     "output_type": "error",
     "ename": "NameError",
     "evalue": "name 'Dataset' is not defined",
     "traceback": [
      "\u001b[0;31m---------------------------------------------------------------------------\u001b[0m",
      "\u001b[0;31mNameError\u001b[0m                                 Traceback (most recent call last)",
      "\u001b[0;32m/var/folders/09/5xs8w4nx6gbd75h3gz_p_svw0000gp/T/ipykernel_46756/2314957773.py\u001b[0m in \u001b[0;36m<module>\u001b[0;34m\u001b[0m\n\u001b[1;32m     10\u001b[0m     \u001b[0mimg_dir\u001b[0m\u001b[0;34m=\u001b[0m\u001b[0mos\u001b[0m\u001b[0;34m.\u001b[0m\u001b[0mpath\u001b[0m\u001b[0;34m.\u001b[0m\u001b[0mjoin\u001b[0m\u001b[0;34m(\u001b[0m\u001b[0mroot\u001b[0m\u001b[0;34m,\u001b[0m\u001b[0mfile_list\u001b[0m\u001b[0;34m[\u001b[0m\u001b[0mi\u001b[0m\u001b[0;34m]\u001b[0m\u001b[0;34m)\u001b[0m\u001b[0;34m\u001b[0m\u001b[0;34m\u001b[0m\u001b[0m\n\u001b[1;32m     11\u001b[0m     \u001b[0msave_dir\u001b[0m\u001b[0;34m=\u001b[0m\u001b[0;34m\"./\"\u001b[0m\u001b[0;34m+\u001b[0m\u001b[0mfile_list\u001b[0m\u001b[0;34m[\u001b[0m\u001b[0mi\u001b[0m\u001b[0;34m]\u001b[0m\u001b[0;34m+\u001b[0m\u001b[0;34m\".obj\"\u001b[0m\u001b[0;34m\u001b[0m\u001b[0;34m\u001b[0m\u001b[0m\n\u001b[0;32m---> 12\u001b[0;31m     \u001b[0mdataset\u001b[0m\u001b[0;34m=\u001b[0m\u001b[0mDataset\u001b[0m\u001b[0;34m(\u001b[0m\u001b[0mroot\u001b[0m\u001b[0;34m=\u001b[0m\u001b[0mimg_dir\u001b[0m\u001b[0;34m)\u001b[0m\u001b[0;34m\u001b[0m\u001b[0;34m\u001b[0m\u001b[0m\n\u001b[0m\u001b[1;32m     13\u001b[0m     \u001b[0mprint\u001b[0m\u001b[0;34m(\u001b[0m\u001b[0;34m\"-----normal images-----\"\u001b[0m\u001b[0;34m)\u001b[0m\u001b[0;34m\u001b[0m\u001b[0;34m\u001b[0m\u001b[0m\n\u001b[1;32m     14\u001b[0m     \u001b[0mdataset\u001b[0m\u001b[0;34m.\u001b[0m\u001b[0mnormal_imags\u001b[0m\u001b[0;34m(\u001b[0m\u001b[0;34m)\u001b[0m\u001b[0;34m\u001b[0m\u001b[0;34m\u001b[0m\u001b[0m\n",
      "\u001b[0;31mNameError\u001b[0m: name 'Dataset' is not defined"
     ]
    }
   ],
   "metadata": {}
  },
  {
   "cell_type": "code",
   "execution_count": null,
   "source": [],
   "outputs": [],
   "metadata": {}
  }
 ],
 "metadata": {
  "orig_nbformat": 4,
  "language_info": {
   "name": "python",
   "version": "3.7.7",
   "mimetype": "text/x-python",
   "codemirror_mode": {
    "name": "ipython",
    "version": 3
   },
   "pygments_lexer": "ipython3",
   "nbconvert_exporter": "python",
   "file_extension": ".py"
  },
  "kernelspec": {
   "name": "python3",
   "display_name": "Python 3.7.7 64-bit ('base': conda)"
  },
  "interpreter": {
   "hash": "5d927dc926799e60da040a66fad171adb88ee16bf22818d05d7080f329057c67"
  }
 },
 "nbformat": 4,
 "nbformat_minor": 2
}